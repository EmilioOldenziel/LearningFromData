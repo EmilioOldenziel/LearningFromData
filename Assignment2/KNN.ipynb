{
 "cells": [
  {
   "cell_type": "code",
   "execution_count": 74,
   "metadata": {
    "collapsed": true
   },
   "outputs": [],
   "source": [
    "import pandas as pd\n",
    "import numpy as np\n",
    "import matplotlib.pyplot as plt\n",
    "from sklearn.neighbors import KNeighborsClassifier\n",
    "from sklearn.feature_extraction.text import CountVectorizer, TfidfVectorizer\n",
    "from sklearn.model_selection import GridSearchCV\n",
    "from sklearn.pipeline import Pipeline\n",
    "from nltk.corpus import stopwords\n",
    "from nltk.stem.porter import PorterStemmer"
   ]
  },
  {
   "cell_type": "code",
   "execution_count": 2,
   "metadata": {
    "collapsed": true
   },
   "outputs": [],
   "source": [
    "def read_corpus(corpus_file, use_sentiment):\n",
    "    st = PorterStemmer()\n",
    "    stop = stopwords.words('english')\n",
    "    documents = []\n",
    "    labels = []\n",
    "    with open(corpus_file, encoding='utf-8') as f:\n",
    "        for line in f:\n",
    "            tokens = line.strip().split()\n",
    "            \n",
    "            # remove stopwords    \n",
    "            doc = [token for token in tokens[3:] if token not in stop]\n",
    "        \n",
    "            # porter stemmer\n",
    "            doc = [st.stem(word) for word in doc]\n",
    "\n",
    "            documents.append(doc)\n",
    "\n",
    "            if use_sentiment:\n",
    "                # 2-class problem: positive vs negative\n",
    "                labels.append( tokens[1] )\n",
    "            else:\n",
    "                # 6-class problem: books, camera, dvd, health, music, software\n",
    "                labels.append( tokens[0] )\n",
    "                \n",
    "    return np.array(documents), np.array(labels)"
   ]
  },
  {
   "cell_type": "code",
   "execution_count": 3,
   "metadata": {
    "collapsed": true
   },
   "outputs": [],
   "source": [
    "# a dummy function that just returns its input\n",
    "def identity(x):\n",
    "    return x"
   ]
  },
  {
   "cell_type": "code",
   "execution_count": 77,
   "metadata": {
    "collapsed": true
   },
   "outputs": [],
   "source": [
    "X, Y = read_corpus('trainset.txt', use_sentiment=False)"
   ]
  },
  {
   "cell_type": "code",
   "execution_count": 5,
   "metadata": {
    "collapsed": true
   },
   "outputs": [],
   "source": [
    "vec = TfidfVectorizer(preprocessor = identity,\n",
    "                      tokenizer = identity)"
   ]
  },
  {
   "cell_type": "code",
   "execution_count": 62,
   "metadata": {
    "collapsed": true
   },
   "outputs": [],
   "source": [
    "params = {\n",
    "    \"cls__n_neighbors\": range(2,50),\n",
    "    \"cls__weights\": [\"distance\"]\n",
    "}"
   ]
  },
  {
   "cell_type": "code",
   "execution_count": 103,
   "metadata": {
    "collapsed": true
   },
   "outputs": [],
   "source": [
    "clf = Pipeline( [('vec', vec), ('cls', KNeighborsClassifier())] )"
   ]
  },
  {
   "cell_type": "code",
   "execution_count": 64,
   "metadata": {},
   "outputs": [
    {
     "name": "stdout",
     "output_type": "stream",
     "text": [
      "Fitting 5 folds for each of 48 candidates, totalling 240 fits\n"
     ]
    },
    {
     "name": "stderr",
     "output_type": "stream",
     "text": [
      "[Parallel(n_jobs=4)]: Done  42 tasks      | elapsed:   41.6s\n",
      "[Parallel(n_jobs=4)]: Done 192 tasks      | elapsed:  3.0min\n",
      "[Parallel(n_jobs=4)]: Done 240 out of 240 | elapsed:  3.8min finished\n"
     ]
    },
    {
     "name": "stdout",
     "output_type": "stream",
     "text": [
      "{'cls__n_neighbors': 45, 'cls__weights': 'distance'}\n",
      "Fitting 5 folds for each of 48 candidates, totalling 240 fits\n"
     ]
    },
    {
     "name": "stderr",
     "output_type": "stream",
     "text": [
      "[Parallel(n_jobs=4)]: Done  42 tasks      | elapsed:   39.7s\n",
      "[Parallel(n_jobs=4)]: Done 192 tasks      | elapsed:  3.0min\n",
      "[Parallel(n_jobs=4)]: Done 240 out of 240 | elapsed:  3.8min finished\n"
     ]
    },
    {
     "name": "stdout",
     "output_type": "stream",
     "text": [
      "{'cls__n_neighbors': 45, 'cls__weights': 'distance'}\n"
     ]
    }
   ],
   "source": [
    "dfs = []\n",
    "for measure in [\"f1_micro\", \"f1_macro\"]:\n",
    "    GS = GridSearchCV(clf, params, cv=5, scoring=measure, n_jobs=4, return_train_score=True, verbose=1)\n",
    "    GS.fit(X,Y);\n",
    "    print(GS.best_params_)\n",
    "    dfs.append(pd.DataFrame(GS.cv_results_))"
   ]
  },
  {
   "cell_type": "code",
   "execution_count": 71,
   "metadata": {
    "scrolled": false
   },
   "outputs": [
    {
     "data": {
      "image/png": "[encoded data removed]",
      "text/plain": [
       "<matplotlib.figure.Figure at 0x7f0084bc4ef0>"
      ]
     },
     "metadata": {},
     "output_type": "display_data"
    }
   ],
   "source": [
    "plt.figure(figsize=(8,8))\n",
    "for df in dfs:\n",
    "    plt.plot(df[\"param_cls__n_neighbors\"], df[\"mean_test_score\"])\n",
    "plt.title(\"KNN test scores per K (weights=distance)\")\n",
    "plt.xlabel(\"K\")\n",
    "plt.ylabel(\"Score\")\n",
    "plt.legend([\"F1 micro\", \"F1 macro\"])\n",
    "plt.grid(True)\n",
    "plt.xticks(np.arange(2, 50, step=2))\n",
    "plt.savefig('KNN.png')\n",
    "plt.show()"
   ]
  },
  {
   "cell_type": "code",
   "execution_count": 70,
   "metadata": {},
   "outputs": [
    {
     "data": {
      "text/html": [
       "<div>\n",
       "<style scoped>\n",
       "    .dataframe tbody tr th:only-of-type {\n",
       "        vertical-align: middle;\n",
       "    }\n",
       "\n",
       "    .dataframe tbody tr th {\n",
       "        vertical-align: top;\n",
       "    }\n",
       "\n",
       "    .dataframe thead th {\n",
       "        text-align: right;\n",
       "    }\n",
       "</style>\n",
       "<table border=\"1\" class=\"dataframe\">\n",
       "  <thead>\n",
       "    <tr style=\"text-align: right;\">\n",
       "      <th></th>\n",
       "      <th>mean_fit_time</th>\n",
       "      <th>std_fit_time</th>\n",
       "      <th>mean_score_time</th>\n",
       "      <th>std_score_time</th>\n",
       "      <th>param_cls__n_neighbors</th>\n",
       "      <th>param_cls__weights</th>\n",
       "      <th>params</th>\n",
       "      <th>split0_test_score</th>\n",
       "      <th>split1_test_score</th>\n",
       "      <th>split2_test_score</th>\n",
       "      <th>...</th>\n",
       "      <th>mean_test_score</th>\n",
       "      <th>std_test_score</th>\n",
       "      <th>rank_test_score</th>\n",
       "      <th>split0_train_score</th>\n",
       "      <th>split1_train_score</th>\n",
       "      <th>split2_train_score</th>\n",
       "      <th>split3_train_score</th>\n",
       "      <th>split4_train_score</th>\n",
       "      <th>mean_train_score</th>\n",
       "      <th>std_train_score</th>\n",
       "    </tr>\n",
       "  </thead>\n",
       "  <tbody>\n",
       "    <tr>\n",
       "      <th>43</th>\n",
       "      <td>0.509570</td>\n",
       "      <td>0.056956</td>\n",
       "      <td>0.616142</td>\n",
       "      <td>0.037094</td>\n",
       "      <td>45</td>\n",
       "      <td>distance</td>\n",
       "      <td>{'cls__n_neighbors': 45, 'cls__weights': 'dist...</td>\n",
       "      <td>0.849543</td>\n",
       "      <td>0.829451</td>\n",
       "      <td>0.865000</td>\n",
       "      <td>...</td>\n",
       "      <td>0.845667</td>\n",
       "      <td>0.011815</td>\n",
       "      <td>1</td>\n",
       "      <td>1.0</td>\n",
       "      <td>1.0</td>\n",
       "      <td>1.0</td>\n",
       "      <td>1.0</td>\n",
       "      <td>1.0</td>\n",
       "      <td>1.0</td>\n",
       "      <td>0.0</td>\n",
       "    </tr>\n",
       "    <tr>\n",
       "      <th>29</th>\n",
       "      <td>0.521657</td>\n",
       "      <td>0.032603</td>\n",
       "      <td>0.610296</td>\n",
       "      <td>0.026119</td>\n",
       "      <td>31</td>\n",
       "      <td>distance</td>\n",
       "      <td>{'cls__n_neighbors': 31, 'cls__weights': 'dist...</td>\n",
       "      <td>0.850374</td>\n",
       "      <td>0.827787</td>\n",
       "      <td>0.860833</td>\n",
       "      <td>...</td>\n",
       "      <td>0.845167</td>\n",
       "      <td>0.011327</td>\n",
       "      <td>2</td>\n",
       "      <td>1.0</td>\n",
       "      <td>1.0</td>\n",
       "      <td>1.0</td>\n",
       "      <td>1.0</td>\n",
       "      <td>1.0</td>\n",
       "      <td>1.0</td>\n",
       "      <td>0.0</td>\n",
       "    </tr>\n",
       "  </tbody>\n",
       "</table>\n",
       "<p>2 rows × 22 columns</p>\n",
       "</div>"
      ],
      "text/plain": [
       "    mean_fit_time  std_fit_time  mean_score_time  std_score_time  \\\n",
       "43       0.509570      0.056956         0.616142        0.037094   \n",
       "29       0.521657      0.032603         0.610296        0.026119   \n",
       "\n",
       "   param_cls__n_neighbors param_cls__weights  \\\n",
       "43                     45           distance   \n",
       "29                     31           distance   \n",
       "\n",
       "                                               params  split0_test_score  \\\n",
       "43  {'cls__n_neighbors': 45, 'cls__weights': 'dist...           0.849543   \n",
       "29  {'cls__n_neighbors': 31, 'cls__weights': 'dist...           0.850374   \n",
       "\n",
       "    split1_test_score  split2_test_score       ...         mean_test_score  \\\n",
       "43           0.829451           0.865000       ...                0.845667   \n",
       "29           0.827787           0.860833       ...                0.845167   \n",
       "\n",
       "    std_test_score  rank_test_score  split0_train_score  split1_train_score  \\\n",
       "43        0.011815                1                 1.0                 1.0   \n",
       "29        0.011327                2                 1.0                 1.0   \n",
       "\n",
       "    split2_train_score  split3_train_score  split4_train_score  \\\n",
       "43                 1.0                 1.0                 1.0   \n",
       "29                 1.0                 1.0                 1.0   \n",
       "\n",
       "    mean_train_score  std_train_score  \n",
       "43               1.0              0.0  \n",
       "29               1.0              0.0  \n",
       "\n",
       "[2 rows x 22 columns]"
      ]
     },
     "execution_count": 70,
     "metadata": {},
     "output_type": "execute_result"
    }
   ],
   "source": [
    "dfs[0].sort_values(by=\"mean_test_score\", ascending=False).iloc[0:2]"
   ]
  },
  {
   "cell_type": "code",
   "execution_count": null,
   "metadata": {},
   "outputs": [],
   "source": []
  },
  {
   "cell_type": "code",
   "execution_count": null,
   "metadata": {
    "collapsed": true
   },
   "outputs": [],
   "source": []
  }
 ],
 "metadata": {
  "kernelspec": {
   "display_name": "Python 3",
   "language": "python",
   "name": "python3"
  },
  "language_info": {
   "codemirror_mode": {
    "name": "ipython",
    "version": 3
   },
   "file_extension": ".py",
   "mimetype": "text/x-python",
   "name": "python",
   "nbconvert_exporter": "python",
   "pygments_lexer": "ipython3",
   "version": "3.6.4"
  }
 },
 "nbformat": 4,
 "nbformat_minor": 2
}
