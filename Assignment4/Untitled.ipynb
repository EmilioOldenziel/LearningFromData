{
 "cells": [
  {
   "cell_type": "code",
   "execution_count": 3,
   "metadata": {
    "collapsed": true
   },
   "outputs": [],
   "source": [
    "import pandas as pd"
   ]
  },
  {
   "cell_type": "code",
   "execution_count": 4,
   "metadata": {},
   "outputs": [
    {
     "name": "stderr",
     "output_type": "stream",
     "text": [
      "b'Skipping line 7200: expected 6 fields, saw 7\\nSkipping line 9768: expected 6 fields, saw 7\\nSkipping line 13381: expected 6 fields, saw 7\\nSkipping line 20034: expected 6 fields, saw 7\\nSkipping line 20150: expected 6 fields, saw 7\\nSkipping line 21822: expected 6 fields, saw 8\\nSkipping line 23870: expected 6 fields, saw 8\\nSkipping line 25302: expected 6 fields, saw 7\\nSkipping line 25689: expected 6 fields, saw 7\\nSkipping line 25829: expected 6 fields, saw 7\\nSkipping line 31043: expected 6 fields, saw 7\\nSkipping line 35580: expected 6 fields, saw 7\\nSkipping line 36114: expected 6 fields, saw 8\\nSkipping line 36165: expected 6 fields, saw 7\\nSkipping line 40249: expected 6 fields, saw 7\\nSkipping line 40796: expected 6 fields, saw 7\\nSkipping line 42048: expected 6 fields, saw 7\\nSkipping line 46654: expected 6 fields, saw 7\\nSkipping line 48632: expected 6 fields, saw 7\\nSkipping line 49404: expected 6 fields, saw 7\\nSkipping line 49847: expected 6 fields, saw 9\\nSkipping line 50796: expected 6 fields, saw 7\\nSkipping line 51033: expected 6 fields, saw 7\\nSkipping line 54032: expected 6 fields, saw 8\\nSkipping line 54347: expected 6 fields, saw 8\\nSkipping line 54745: expected 6 fields, saw 8\\nSkipping line 57026: expected 6 fields, saw 7\\nSkipping line 57302: expected 6 fields, saw 7\\nSkipping line 60639: expected 6 fields, saw 7\\nSkipping line 65302: expected 6 fields, saw 7\\nSkipping line 66108: expected 6 fields, saw 9\\nSkipping line 68297: expected 6 fields, saw 7\\nSkipping line 68727: expected 6 fields, saw 7\\nSkipping line 75004: expected 6 fields, saw 8\\nSkipping line 88610: expected 6 fields, saw 11\\nSkipping line 89842: expected 6 fields, saw 7\\nSkipping line 90284: expected 6 fields, saw 7\\nSkipping line 92945: expected 6 fields, saw 7\\nSkipping line 95248: expected 6 fields, saw 8\\nSkipping line 95443: expected 6 fields, saw 7\\nSkipping line 98248: expected 6 fields, saw 7\\nSkipping line 101212: expected 6 fields, saw 8\\nSkipping line 101803: expected 6 fields, saw 9\\nSkipping line 102829: expected 6 fields, saw 7\\nSkipping line 105338: expected 6 fields, saw 7\\nSkipping line 112420: expected 6 fields, saw 7\\nSkipping line 113380: expected 6 fields, saw 7\\nSkipping line 115617: expected 6 fields, saw 7\\nSkipping line 121508: expected 6 fields, saw 7\\nSkipping line 121803: expected 6 fields, saw 9\\nSkipping line 124709: expected 6 fields, saw 7\\nSkipping line 126198: expected 6 fields, saw 7\\n'\n",
      "b'Skipping line 145626: expected 6 fields, saw 9\\nSkipping line 149025: expected 6 fields, saw 8\\nSkipping line 149728: expected 6 fields, saw 7\\nSkipping line 152763: expected 6 fields, saw 12\\nSkipping line 153804: expected 6 fields, saw 8\\nSkipping line 162462: expected 6 fields, saw 7\\nSkipping line 165629: expected 6 fields, saw 8\\nSkipping line 167444: expected 6 fields, saw 8\\nSkipping line 170517: expected 6 fields, saw 8\\nSkipping line 171225: expected 6 fields, saw 7\\nSkipping line 171385: expected 6 fields, saw 7\\nSkipping line 171716: expected 6 fields, saw 8\\nSkipping line 177351: expected 6 fields, saw 7\\nSkipping line 179280: expected 6 fields, saw 7\\nSkipping line 182646: expected 6 fields, saw 7\\nSkipping line 189758: expected 6 fields, saw 7\\nSkipping line 196490: expected 6 fields, saw 7\\nSkipping line 196673: expected 6 fields, saw 7\\nSkipping line 207040: expected 6 fields, saw 8\\nSkipping line 212236: expected 6 fields, saw 7\\nSkipping line 218662: expected 6 fields, saw 7\\nSkipping line 220431: expected 6 fields, saw 7\\nSkipping line 223897: expected 6 fields, saw 10\\nSkipping line 226428: expected 6 fields, saw 7\\nSkipping line 233089: expected 6 fields, saw 7\\nSkipping line 240004: expected 6 fields, saw 7\\nSkipping line 247442: expected 6 fields, saw 7\\nSkipping line 250885: expected 6 fields, saw 8\\nSkipping line 255898: expected 6 fields, saw 7\\n'\n",
      "b'Skipping line 266867: expected 6 fields, saw 7\\nSkipping line 267358: expected 6 fields, saw 7\\nSkipping line 271230: expected 6 fields, saw 8\\nSkipping line 274057: expected 6 fields, saw 8\\nSkipping line 275757: expected 6 fields, saw 7\\nSkipping line 281382: expected 6 fields, saw 9\\nSkipping line 281585: expected 6 fields, saw 8\\nSkipping line 295722: expected 6 fields, saw 8\\nSkipping line 299771: expected 6 fields, saw 7\\nSkipping line 306835: expected 6 fields, saw 8\\nSkipping line 322107: expected 6 fields, saw 7\\nSkipping line 327043: expected 6 fields, saw 7\\nSkipping line 327048: expected 6 fields, saw 7\\nSkipping line 331154: expected 6 fields, saw 7\\nSkipping line 343476: expected 6 fields, saw 7\\nSkipping line 343883: expected 6 fields, saw 8\\nSkipping line 345215: expected 6 fields, saw 7\\nSkipping line 353832: expected 6 fields, saw 7\\nSkipping line 354164: expected 6 fields, saw 7\\nSkipping line 365342: expected 6 fields, saw 7\\nSkipping line 366857: expected 6 fields, saw 7\\nSkipping line 366861: expected 6 fields, saw 7\\nSkipping line 366935: expected 6 fields, saw 7\\nSkipping line 367771: expected 6 fields, saw 7\\nSkipping line 367778: expected 6 fields, saw 7\\nSkipping line 367809: expected 6 fields, saw 7\\nSkipping line 368230: expected 6 fields, saw 7\\nSkipping line 368697: expected 6 fields, saw 8\\nSkipping line 368736: expected 6 fields, saw 7\\nSkipping line 371004: expected 6 fields, saw 7\\nSkipping line 377572: expected 6 fields, saw 7\\nSkipping line 380081: expected 6 fields, saw 7\\nSkipping line 387365: expected 6 fields, saw 7\\n'\n",
      "b'Skipping line 394040: expected 6 fields, saw 7\\nSkipping line 405080: expected 6 fields, saw 7\\nSkipping line 405222: expected 6 fields, saw 7\\nSkipping line 405539: expected 6 fields, saw 8\\nSkipping line 424534: expected 6 fields, saw 7\\nSkipping line 429492: expected 6 fields, saw 7\\nSkipping line 430962: expected 6 fields, saw 7\\nSkipping line 433276: expected 6 fields, saw 7\\nSkipping line 440705: expected 6 fields, saw 8\\nSkipping line 441765: expected 6 fields, saw 7\\nSkipping line 442735: expected 6 fields, saw 7\\nSkipping line 445579: expected 6 fields, saw 8\\nSkipping line 447959: expected 6 fields, saw 7\\nSkipping line 461494: expected 6 fields, saw 8\\nSkipping line 464897: expected 6 fields, saw 7\\nSkipping line 464899: expected 6 fields, saw 7\\nSkipping line 482182: expected 6 fields, saw 7\\nSkipping line 488019: expected 6 fields, saw 7\\nSkipping line 491210: expected 6 fields, saw 7\\nSkipping line 493168: expected 6 fields, saw 7\\nSkipping line 496572: expected 6 fields, saw 9\\nSkipping line 497257: expected 6 fields, saw 7\\nSkipping line 503514: expected 6 fields, saw 7\\nSkipping line 515651: expected 6 fields, saw 7\\nSkipping line 516465: expected 6 fields, saw 7\\nSkipping line 516862: expected 6 fields, saw 7\\nSkipping line 519636: expected 6 fields, saw 7\\nSkipping line 522673: expected 6 fields, saw 8\\n'\n",
      "b'Skipping line 539065: expected 6 fields, saw 9\\nSkipping line 559973: expected 6 fields, saw 7\\nSkipping line 579486: expected 6 fields, saw 7\\nSkipping line 591149: expected 6 fields, saw 7\\nSkipping line 594418: expected 6 fields, saw 10\\nSkipping line 604207: expected 6 fields, saw 7\\nSkipping line 619262: expected 6 fields, saw 9\\nSkipping line 627500: expected 6 fields, saw 7\\nSkipping line 628301: expected 6 fields, saw 8\\nSkipping line 629778: expected 6 fields, saw 7\\nSkipping line 631562: expected 6 fields, saw 8\\nSkipping line 641215: expected 6 fields, saw 8\\nSkipping line 641329: expected 6 fields, saw 8\\nSkipping line 641959: expected 6 fields, saw 7\\n'\n",
      "b'Skipping line 671316: expected 6 fields, saw 9\\nSkipping line 695328: expected 6 fields, saw 7\\nSkipping line 699654: expected 6 fields, saw 8\\nSkipping line 711265: expected 6 fields, saw 9\\nSkipping line 714625: expected 6 fields, saw 7\\nSkipping line 734840: expected 6 fields, saw 7\\nSkipping line 735448: expected 6 fields, saw 7\\nSkipping line 741045: expected 6 fields, saw 7\\nSkipping line 748837: expected 6 fields, saw 7\\nSkipping line 753249: expected 6 fields, saw 7\\nSkipping line 766696: expected 6 fields, saw 8\\nSkipping line 772122: expected 6 fields, saw 8\\nSkipping line 776978: expected 6 fields, saw 7\\nSkipping line 782205: expected 6 fields, saw 7\\nSkipping line 782872: expected 6 fields, saw 7\\n'\n"
     ]
    },
    {
     "name": "stderr",
     "output_type": "stream",
     "text": [
      "b'Skipping line 788049: expected 6 fields, saw 7\\nSkipping line 789959: expected 6 fields, saw 8\\nSkipping line 808962: expected 6 fields, saw 7\\nSkipping line 842265: expected 6 fields, saw 7\\nSkipping line 847555: expected 6 fields, saw 8\\nSkipping line 849854: expected 6 fields, saw 8\\nSkipping line 850705: expected 6 fields, saw 7\\nSkipping line 851925: expected 6 fields, saw 7\\nSkipping line 852181: expected 6 fields, saw 7\\nSkipping line 856594: expected 6 fields, saw 7\\nSkipping line 876012: expected 6 fields, saw 7\\nSkipping line 882605: expected 6 fields, saw 8\\nSkipping line 891294: expected 6 fields, saw 7\\nSkipping line 895385: expected 6 fields, saw 7\\nSkipping line 896956: expected 6 fields, saw 7\\nSkipping line 909666: expected 6 fields, saw 7\\n'\n",
      "b'Skipping line 917806: expected 6 fields, saw 8\\nSkipping line 937050: expected 6 fields, saw 7\\nSkipping line 944843: expected 6 fields, saw 7\\nSkipping line 967448: expected 6 fields, saw 8\\nSkipping line 968799: expected 6 fields, saw 10\\nSkipping line 971750: expected 6 fields, saw 8\\nSkipping line 971775: expected 6 fields, saw 12\\nSkipping line 973427: expected 6 fields, saw 7\\nSkipping line 973895: expected 6 fields, saw 8\\nSkipping line 976175: expected 6 fields, saw 10\\nSkipping line 976814: expected 6 fields, saw 7\\nSkipping line 980523: expected 6 fields, saw 7\\nSkipping line 993244: expected 6 fields, saw 7\\nSkipping line 1010373: expected 6 fields, saw 11\\nSkipping line 1020581: expected 6 fields, saw 7\\nSkipping line 1035854: expected 6 fields, saw 8\\n'\n",
      "b'Skipping line 1081914: expected 6 fields, saw 9\\nSkipping line 1089272: expected 6 fields, saw 7\\nSkipping line 1090541: expected 6 fields, saw 8\\nSkipping line 1098798: expected 6 fields, saw 8\\nSkipping line 1108684: expected 6 fields, saw 8\\nSkipping line 1115650: expected 6 fields, saw 7\\nSkipping line 1138452: expected 6 fields, saw 7\\nSkipping line 1140662: expected 6 fields, saw 7\\nSkipping line 1144387: expected 6 fields, saw 7\\nSkipping line 1147018: expected 6 fields, saw 8\\nSkipping line 1150526: expected 6 fields, saw 7\\nSkipping line 1155491: expected 6 fields, saw 9\\nSkipping line 1156816: expected 6 fields, saw 7\\nSkipping line 1177183: expected 6 fields, saw 8\\n'\n",
      "b'Skipping line 1180776: expected 6 fields, saw 8\\nSkipping line 1180794: expected 6 fields, saw 7\\nSkipping line 1180816: expected 6 fields, saw 8\\nSkipping line 1195346: expected 6 fields, saw 7\\nSkipping line 1198560: expected 6 fields, saw 7\\nSkipping line 1202246: expected 6 fields, saw 8\\nSkipping line 1205078: expected 6 fields, saw 8\\nSkipping line 1224731: expected 6 fields, saw 7\\nSkipping line 1251347: expected 6 fields, saw 9\\nSkipping line 1258209: expected 6 fields, saw 10\\nSkipping line 1261146: expected 6 fields, saw 7\\nSkipping line 1265806: expected 6 fields, saw 8\\nSkipping line 1268561: expected 6 fields, saw 8\\nSkipping line 1293319: expected 6 fields, saw 7\\nSkipping line 1299903: expected 6 fields, saw 7\\nSkipping line 1299950: expected 6 fields, saw 7\\nSkipping line 1310770: expected 6 fields, saw 7\\n'\n",
      "b'Skipping line 1311815: expected 6 fields, saw 8\\nSkipping line 1317149: expected 6 fields, saw 8\\nSkipping line 1366331: expected 6 fields, saw 7\\nSkipping line 1382026: expected 6 fields, saw 20\\nSkipping line 1388947: expected 6 fields, saw 7\\nSkipping line 1427842: expected 6 fields, saw 7\\nSkipping line 1433768: expected 6 fields, saw 8\\nSkipping line 1433964: expected 6 fields, saw 7\\nSkipping line 1434775: expected 6 fields, saw 8\\nSkipping line 1441399: expected 6 fields, saw 7\\n'\n",
      "b'Skipping line 1444410: expected 6 fields, saw 7\\nSkipping line 1446033: expected 6 fields, saw 7\\nSkipping line 1447561: expected 6 fields, saw 9\\nSkipping line 1455581: expected 6 fields, saw 7\\nSkipping line 1456826: expected 6 fields, saw 11\\nSkipping line 1459075: expected 6 fields, saw 8\\nSkipping line 1462024: expected 6 fields, saw 7\\nSkipping line 1468841: expected 6 fields, saw 7\\nSkipping line 1477786: expected 6 fields, saw 7\\nSkipping line 1477789: expected 6 fields, saw 7\\nSkipping line 1478748: expected 6 fields, saw 7\\nSkipping line 1505148: expected 6 fields, saw 7\\nSkipping line 1533057: expected 6 fields, saw 7\\nSkipping line 1541827: expected 6 fields, saw 7\\nSkipping line 1541892: expected 6 fields, saw 7\\nSkipping line 1544934: expected 6 fields, saw 7\\nSkipping line 1554930: expected 6 fields, saw 7\\nSkipping line 1558135: expected 6 fields, saw 8\\nSkipping line 1572590: expected 6 fields, saw 7\\n'\n",
      "b'Skipping line 1591578: expected 6 fields, saw 7\\nSkipping line 1614499: expected 6 fields, saw 7\\nSkipping line 1615656: expected 6 fields, saw 7\\nSkipping line 1622138: expected 6 fields, saw 7\\nSkipping line 1629279: expected 6 fields, saw 7\\nSkipping line 1643207: expected 6 fields, saw 7\\nSkipping line 1668215: expected 6 fields, saw 8\\nSkipping line 1669690: expected 6 fields, saw 7\\nSkipping line 1669723: expected 6 fields, saw 7\\nSkipping line 1670238: expected 6 fields, saw 7\\nSkipping line 1672814: expected 6 fields, saw 7\\nSkipping line 1683134: expected 6 fields, saw 7\\nSkipping line 1683464: expected 6 fields, saw 7\\nSkipping line 1687505: expected 6 fields, saw 7\\nSkipping line 1688120: expected 6 fields, saw 8\\n'\n",
      "b'Skipping line 1705100: expected 6 fields, saw 7\\nSkipping line 1720149: expected 6 fields, saw 11\\nSkipping line 1723572: expected 6 fields, saw 7\\nSkipping line 1735166: expected 6 fields, saw 7\\nSkipping line 1738906: expected 6 fields, saw 7\\nSkipping line 1758961: expected 6 fields, saw 7\\nSkipping line 1774784: expected 6 fields, saw 8\\nSkipping line 1783442: expected 6 fields, saw 7\\nSkipping line 1794724: expected 6 fields, saw 7\\nSkipping line 1802452: expected 6 fields, saw 7\\nSkipping line 1806712: expected 6 fields, saw 7\\nSkipping line 1808040: expected 6 fields, saw 8\\nSkipping line 1810403: expected 6 fields, saw 7\\nSkipping line 1823935: expected 6 fields, saw 12\\nSkipping line 1826751: expected 6 fields, saw 7\\n'\n",
      "b'Skipping line 1835492: expected 6 fields, saw 8\\nSkipping line 1881314: expected 6 fields, saw 8\\nSkipping line 1891553: expected 6 fields, saw 7\\nSkipping line 1901615: expected 6 fields, saw 7\\nSkipping line 1905503: expected 6 fields, saw 7\\nSkipping line 1905747: expected 6 fields, saw 7\\nSkipping line 1911044: expected 6 fields, saw 7\\nSkipping line 1917940: expected 6 fields, saw 7\\nSkipping line 1918869: expected 6 fields, saw 8\\nSkipping line 1933086: expected 6 fields, saw 7\\nSkipping line 1941318: expected 6 fields, saw 7\\n'\n",
      "b'Skipping line 1978141: expected 6 fields, saw 7\\nSkipping line 1985223: expected 6 fields, saw 7\\nSkipping line 1993530: expected 6 fields, saw 7\\nSkipping line 1993666: expected 6 fields, saw 7\\nSkipping line 2005765: expected 6 fields, saw 7\\nSkipping line 2014046: expected 6 fields, saw 8\\nSkipping line 2017662: expected 6 fields, saw 7\\nSkipping line 2030794: expected 6 fields, saw 7\\nSkipping line 2042400: expected 6 fields, saw 7\\nSkipping line 2056478: expected 6 fields, saw 7\\nSkipping line 2061261: expected 6 fields, saw 7\\nSkipping line 2066277: expected 6 fields, saw 8\\nSkipping line 2072582: expected 6 fields, saw 7\\nSkipping line 2073521: expected 6 fields, saw 7\\n'\n",
      "b'Skipping line 2108822: expected 6 fields, saw 7\\nSkipping line 2110366: expected 6 fields, saw 8\\nSkipping line 2111485: expected 6 fields, saw 7\\nSkipping line 2132207: expected 6 fields, saw 7\\nSkipping line 2145647: expected 6 fields, saw 7\\nSkipping line 2148822: expected 6 fields, saw 8\\nSkipping line 2153337: expected 6 fields, saw 7\\nSkipping line 2153369: expected 6 fields, saw 7\\nSkipping line 2196811: expected 6 fields, saw 8\\nSkipping line 2201659: expected 6 fields, saw 7\\nSkipping line 2212819: expected 6 fields, saw 7\\nSkipping line 2221753: expected 6 fields, saw 7\\n'\n",
      "b'Skipping line 2229673: expected 6 fields, saw 7\\nSkipping line 2240462: expected 6 fields, saw 9\\nSkipping line 2283757: expected 6 fields, saw 7\\nSkipping line 2288888: expected 6 fields, saw 8\\nSkipping line 2297955: expected 6 fields, saw 7\\nSkipping line 2308258: expected 6 fields, saw 8\\nSkipping line 2322555: expected 6 fields, saw 7\\nSkipping line 2323267: expected 6 fields, saw 8\\nSkipping line 2332288: expected 6 fields, saw 7\\nSkipping line 2341037: expected 6 fields, saw 7\\n'\n"
     ]
    },
    {
     "name": "stderr",
     "output_type": "stream",
     "text": [
      "b'Skipping line 2373279: expected 6 fields, saw 8\\nSkipping line 2440664: expected 6 fields, saw 7\\nSkipping line 2460885: expected 6 fields, saw 7\\nSkipping line 2473626: expected 6 fields, saw 7\\n'\n",
      "b'Skipping line 2540375: expected 6 fields, saw 7\\nSkipping line 2563080: expected 6 fields, saw 7\\nSkipping line 2586625: expected 6 fields, saw 7\\nSkipping line 2604739: expected 6 fields, saw 7\\n'\n",
      "/home/emilio/Software/anaconda3/lib/python3.6/site-packages/IPython/core/interactiveshell.py:2717: DtypeWarning: Columns (2,3) have mixed types. Specify dtype option on import or set low_memory=False.\n",
      "  interactivity=interactivity, compiler=compiler, result=result)\n"
     ]
    }
   ],
   "source": [
    "df = pd.read_csv(\"urbandict-word-def.csv\", error_bad_lines=False);"
   ]
  },
  {
   "cell_type": "code",
   "execution_count": 5,
   "metadata": {
    "collapsed": true
   },
   "outputs": [],
   "source": [
    "df = df[\"definition\"].astype(str)"
   ]
  },
  {
   "cell_type": "code",
   "execution_count": 6,
   "metadata": {},
   "outputs": [],
   "source": [
    "df = df.apply(lambda s: s.replace(\";\", \"\").replace(\"\\n\", \"\").replace(\",\", \"\").replace(\".\", \"\").lower().strip())"
   ]
  },
  {
   "cell_type": "code",
   "execution_count": 7,
   "metadata": {},
   "outputs": [
    {
     "data": {
      "text/plain": [
       "0          affirmation suggestion of encouragement approv...\n",
       "1                              undesirable less-than optimum\n",
       "2                              anything that makes you sweat\n",
       "3               anything of or pertaining to a $10000 hooker\n",
       "4                                      see synonyms at hella\n",
       "5                                                   to steal\n",
       "6                        really really good excellently good\n",
       "7                                               to smell bad\n",
       "8                                    see synonyms at [hecka]\n",
       "9          a description of an excess of emotion objects ...\n",
       "10                              to become overweight or buff\n",
       "11         a twenty dollar bill jackson's on it'tw' + 'aw...\n",
       "12         a one dollar bill $1equivalent to one hundred ...\n",
       "13         a multi-functional word:  very/a lot/hard/etc ...\n",
       "14                                                  ass hole\n",
       "15                  the smart kind in the front of the class\n",
       "16                       a public address system loudspeaker\n",
       "17                             to perform oral sex on a male\n",
       "18                                      a act of a group sex\n",
       "19         to rub one's genitals against someone without ...\n",
       "20                                          you are kidding!\n",
       "21         a term of endearment used affectionately for y...\n",
       "22         p noun: people not necessarily related to whom...\n",
       "23                                                  to vomit\n",
       "24         v to contact or communicate with esp after a l...\n",
       "25               distasteful obscene and or just plain gross\n",
       "26         to experience illogical thoughts or emotions a...\n",
       "27         a guys state of mind after he sees the girl of...\n",
       "28         low down and funky but [knee deep] enough to r...\n",
       "29         can be converted from one form to another but ...\n",
       "                                 ...                        \n",
       "2606140    a group nation or individual who tries to clai...\n",
       "2606141    pronounced: soo-saint-marie style a sex act wh...\n",
       "2606142    a slang word used to replace the verb go/gonna...\n",
       "2606143    a pussy-fest is when a guy or a group of guys ...\n",
       "2606144    identitarianism is the belief that social iden...\n",
       "2606145    it's a another term you can use instead of wee...\n",
       "2606146    a person who posts things on [social media] lo...\n",
       "2606147    the art of taking a shit in your hand and then...\n",
       "2606148             fucking every single woman on the planet\n",
       "2606149    a student who went to college and subsequently...\n",
       "2606150    describes the behavior of someone in a bad moo...\n",
       "2606151                               what do you want to do\n",
       "2606152    an absolute beast of nature who's skills on th...\n",
       "2606153    'mofo' is a slang abbreviation for the word 'm...\n",
       "2606154        a selfie you take that is only for you to see\n",
       "2606155    a hoe thats not exactly a hoe a virgin that do...\n",
       "2606156    how a [closeted] [trans] person appears to the...\n",
       "2606157    when you shart yourself and check your undies ...\n",
       "2606158       the feeling of being both hungry and nauseated\n",
       "2606159                               mix of hipster and emo\n",
       "2606160    condom or similar prophylactic made entirely o...\n",
       "2606161          the reason hair care products were invented\n",
       "2606162    a mix between a slag and a slut'that girl is s...\n",
       "2606163                 an annoying person but a good friend\n",
       "2606164             very fit and loving cat with a huge tail\n",
       "2606165    an online encyclopedia this site is often not ...\n",
       "2606166                           short for: forgive me lord\n",
       "2606167    someone who is sweet and nice on the outside a...\n",
       "2606168    scrub is generally used as an insult for someo...\n",
       "2606169    italian-american slang used for 'bitch' 'cunt'...\n",
       "Name: definition, Length: 2606170, dtype: object"
      ]
     },
     "execution_count": 7,
     "metadata": {},
     "output_type": "execute_result"
    }
   ],
   "source": [
    "df"
   ]
  },
  {
   "cell_type": "code",
   "execution_count": 8,
   "metadata": {},
   "outputs": [],
   "source": [
    "df.to_csv(\"words.txt\", sep=\" \",index=False, header=False)"
   ]
  },
  {
   "cell_type": "code",
   "execution_count": null,
   "metadata": {
    "collapsed": true
   },
   "outputs": [],
   "source": []
  }
 ],
 "metadata": {
  "kernelspec": {
   "display_name": "Python 3",
   "language": "python",
   "name": "python3"
  },
  "language_info": {
   "codemirror_mode": {
    "name": "ipython",
    "version": 3
   },
   "file_extension": ".py",
   "mimetype": "text/x-python",
   "name": "python",
   "nbconvert_exporter": "python",
   "pygments_lexer": "ipython3",
   "version": "3.6.4"
  }
 },
 "nbformat": 4,
 "nbformat_minor": 2
}
